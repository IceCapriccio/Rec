{
 "cells": [
  {
   "cell_type": "markdown",
   "id": "a6a9fb1b-58a0-4271-a171-b9d77067deb2",
   "metadata": {},
   "source": [
    "将user和user-item连接\n",
    "做格式上的处理（还未实现）"
   ]
  },
  {
   "cell_type": "code",
   "execution_count": 1,
   "id": "d4b7db62-57ba-4e53-b32b-d03284706e03",
   "metadata": {},
   "outputs": [],
   "source": [
    "import gc\n",
    "from pathlib import Path\n",
    "import pandas as pd\n",
    "import numpy as np\n",
    "from time import time\n",
    "import matplotlib.pyplot as plt\n",
    "pd.set_option('expand_frame_repr', False)\n",
    "pd.set_option('display.float_format', lambda x: '%.2f' % x)\n",
    "pd.set_option('display.max_columns', None)\n",
    "pd.set_option('display.max_rows', 1000)\n",
    "pd.set_option('max_colwidth', 200)"
   ]
  },
  {
   "cell_type": "code",
   "execution_count": 4,
   "id": "bcd0ef45-ba71-4d3a-bce7-afb19b3ebf75",
   "metadata": {},
   "outputs": [
    {
     "name": "stdout",
     "output_type": "stream",
     "text": [
      "read  5.96s\n"
     ]
    }
   ],
   "source": [
    "st = time()\n",
    "user_df = pd.read_pickle('~/data/user.pkl')\n",
    "ui_df = pd.read_pickle('~/data/user_item.pkl')\n",
    "ed = time()\n",
    "print(f'read {ed - st: .2f}s')"
   ]
  },
  {
   "cell_type": "code",
   "execution_count": null,
   "id": "383a9de2-41cd-4bee-87a6-5f8c6b2ff84b",
   "metadata": {},
   "outputs": [],
   "source": [
    "data = ui_df.merge(user_df, how='left', on='userId')"
   ]
  },
  {
   "cell_type": "code",
   "execution_count": 15,
   "id": "b8574bde-8603-4f04-ab19-0f71dfd8b48e",
   "metadata": {},
   "outputs": [
    {
     "data": {
      "text/html": [
       "<div>\n",
       "<style scoped>\n",
       "    .dataframe tbody tr th:only-of-type {\n",
       "        vertical-align: middle;\n",
       "    }\n",
       "\n",
       "    .dataframe tbody tr th {\n",
       "        vertical-align: top;\n",
       "    }\n",
       "\n",
       "    .dataframe thead th {\n",
       "        text-align: right;\n",
       "    }\n",
       "</style>\n",
       "<table border=\"1\" class=\"dataframe\">\n",
       "  <thead>\n",
       "    <tr style=\"text-align: right;\">\n",
       "      <th></th>\n",
       "      <th>userId</th>\n",
       "      <th>itemId</th>\n",
       "      <th>showTime</th>\n",
       "      <th>network</th>\n",
       "      <th>refresh</th>\n",
       "      <th>showPos</th>\n",
       "      <th>click</th>\n",
       "      <th>duration</th>\n",
       "      <th>deviceName</th>\n",
       "      <th>OS</th>\n",
       "      <th>province</th>\n",
       "      <th>city</th>\n",
       "      <th>0-24</th>\n",
       "      <th>25-29</th>\n",
       "      <th>30-39</th>\n",
       "      <th>40-</th>\n",
       "      <th>female</th>\n",
       "      <th>male</th>\n",
       "    </tr>\n",
       "  </thead>\n",
       "  <tbody>\n",
       "    <tr>\n",
       "      <th>0</th>\n",
       "      <td>1000014754</td>\n",
       "      <td>463510256</td>\n",
       "      <td>2021-06-28 01:29:16.147</td>\n",
       "      <td>5</td>\n",
       "      <td>0</td>\n",
       "      <td>16</td>\n",
       "      <td>0</td>\n",
       "      <td>0</td>\n",
       "      <td>DVC-AN20</td>\n",
       "      <td>Android</td>\n",
       "      <td>江西</td>\n",
       "      <td>南昌</td>\n",
       "      <td>0.01</td>\n",
       "      <td>0.04</td>\n",
       "      <td>0.29</td>\n",
       "      <td>0.66</td>\n",
       "      <td>0.36</td>\n",
       "      <td>0.64</td>\n",
       "    </tr>\n",
       "    <tr>\n",
       "      <th>1</th>\n",
       "      <td>1000014754</td>\n",
       "      <td>463852707</td>\n",
       "      <td>2021-06-28 01:29:16.147</td>\n",
       "      <td>5</td>\n",
       "      <td>0</td>\n",
       "      <td>13</td>\n",
       "      <td>1</td>\n",
       "      <td>80</td>\n",
       "      <td>DVC-AN20</td>\n",
       "      <td>Android</td>\n",
       "      <td>江西</td>\n",
       "      <td>南昌</td>\n",
       "      <td>0.01</td>\n",
       "      <td>0.04</td>\n",
       "      <td>0.29</td>\n",
       "      <td>0.66</td>\n",
       "      <td>0.36</td>\n",
       "      <td>0.64</td>\n",
       "    </tr>\n",
       "    <tr>\n",
       "      <th>2</th>\n",
       "      <td>1000014754</td>\n",
       "      <td>464757134</td>\n",
       "      <td>2021-06-30 11:36:39.841</td>\n",
       "      <td>5</td>\n",
       "      <td>0</td>\n",
       "      <td>13</td>\n",
       "      <td>1</td>\n",
       "      <td>1050</td>\n",
       "      <td>DVC-AN20</td>\n",
       "      <td>Android</td>\n",
       "      <td>江西</td>\n",
       "      <td>南昌</td>\n",
       "      <td>0.01</td>\n",
       "      <td>0.04</td>\n",
       "      <td>0.29</td>\n",
       "      <td>0.66</td>\n",
       "      <td>0.36</td>\n",
       "      <td>0.64</td>\n",
       "    </tr>\n",
       "    <tr>\n",
       "      <th>3</th>\n",
       "      <td>1000014754</td>\n",
       "      <td>464617167</td>\n",
       "      <td>2021-06-30 11:36:39.841</td>\n",
       "      <td>5</td>\n",
       "      <td>0</td>\n",
       "      <td>16</td>\n",
       "      <td>1</td>\n",
       "      <td>286</td>\n",
       "      <td>DVC-AN20</td>\n",
       "      <td>Android</td>\n",
       "      <td>江西</td>\n",
       "      <td>南昌</td>\n",
       "      <td>0.01</td>\n",
       "      <td>0.04</td>\n",
       "      <td>0.29</td>\n",
       "      <td>0.66</td>\n",
       "      <td>0.36</td>\n",
       "      <td>0.64</td>\n",
       "    </tr>\n",
       "    <tr>\n",
       "      <th>4</th>\n",
       "      <td>1000014754</td>\n",
       "      <td>465426190</td>\n",
       "      <td>2021-07-04 07:07:01.168</td>\n",
       "      <td>5</td>\n",
       "      <td>0</td>\n",
       "      <td>5</td>\n",
       "      <td>0</td>\n",
       "      <td>0</td>\n",
       "      <td>DVC-AN20</td>\n",
       "      <td>Android</td>\n",
       "      <td>江西</td>\n",
       "      <td>南昌</td>\n",
       "      <td>0.01</td>\n",
       "      <td>0.04</td>\n",
       "      <td>0.29</td>\n",
       "      <td>0.66</td>\n",
       "      <td>0.36</td>\n",
       "      <td>0.64</td>\n",
       "    </tr>\n",
       "  </tbody>\n",
       "</table>\n",
       "</div>"
      ],
      "text/plain": [
       "       userId     itemId                showTime network refresh showPos click duration deviceName       OS province city  0-24  25-29  30-39  40-  female  male\n",
       "0  1000014754  463510256 2021-06-28 01:29:16.147       5       0      16     0        0   DVC-AN20  Android       江西   南昌  0.01   0.04   0.29 0.66    0.36  0.64\n",
       "1  1000014754  463852707 2021-06-28 01:29:16.147       5       0      13     1       80   DVC-AN20  Android       江西   南昌  0.01   0.04   0.29 0.66    0.36  0.64\n",
       "2  1000014754  464757134 2021-06-30 11:36:39.841       5       0      13     1     1050   DVC-AN20  Android       江西   南昌  0.01   0.04   0.29 0.66    0.36  0.64\n",
       "3  1000014754  464617167 2021-06-30 11:36:39.841       5       0      16     1      286   DVC-AN20  Android       江西   南昌  0.01   0.04   0.29 0.66    0.36  0.64\n",
       "4  1000014754  465426190 2021-07-04 07:07:01.168       5       0       5     0        0   DVC-AN20  Android       江西   南昌  0.01   0.04   0.29 0.66    0.36  0.64"
      ]
     },
     "execution_count": 15,
     "metadata": {},
     "output_type": "execute_result"
    }
   ],
   "source": [
    "data.head()"
   ]
  },
  {
   "cell_type": "code",
   "execution_count": 16,
   "id": "dc085d05-9f07-4d5d-b85f-cb1d3afbc333",
   "metadata": {},
   "outputs": [
    {
     "name": "stdout",
     "output_type": "stream",
     "text": [
      "1538384 1478694 1478694\n"
     ]
    }
   ],
   "source": [
    "print(user_df.userId.nunique(), ui_df.userId.nunique(), data.userId.nunique())"
   ]
  },
  {
   "cell_type": "code",
   "execution_count": 14,
   "id": "2c7b08f3-2782-47cc-ab76-ab3350e4eecd",
   "metadata": {},
   "outputs": [
    {
     "name": "stdout",
     "output_type": "stream",
     "text": [
      "(1538384, 11) (189766959, 8) (189766959, 18)\n"
     ]
    }
   ],
   "source": [
    "print(user_df.shape, ui_df.shape, data.shape)"
   ]
  }
 ],
 "metadata": {
  "kernelspec": {
   "display_name": "Python 3 (ipykernel)",
   "language": "python",
   "name": "python3"
  },
  "language_info": {
   "codemirror_mode": {
    "name": "ipython",
    "version": 3
   },
   "file_extension": ".py",
   "mimetype": "text/x-python",
   "name": "python",
   "nbconvert_exporter": "python",
   "pygments_lexer": "ipython3",
   "version": "3.7.10"
  }
 },
 "nbformat": 4,
 "nbformat_minor": 5
}