{
 "cells": [
  {
   "cell_type": "markdown",
   "metadata": {},
   "source": [
    "## 对train_data.txt的EDA和预处理"
   ]
  },
  {
   "cell_type": "code",
   "execution_count": 35,
   "metadata": {},
   "outputs": [],
   "source": [
    "import gc\n",
    "from pathlib import Path\n",
    "import pandas as pd\n",
    "import numpy as np\n",
    "from time import time\n",
    "import matplotlib.pyplot as plt\n",
    "pd.set_option('expand_frame_repr', False)\n",
    "pd.set_option('display.float_format', lambda x: '%.2f' % x)\n",
    "pd.set_option('display.max_columns', None)\n",
    "pd.set_option('display.max_rows', 1000)\n",
    "pd.set_option('max_colwidth', 200)"
   ]
  },
  {
   "cell_type": "code",
   "execution_count": 3,
   "metadata": {
    "pycharm": {
     "name": "#%%\n"
    }
   },
   "outputs": [
    {
     "name": "stdout",
     "output_type": "stream",
     "text": [
      "read csv:  292.59s\n",
      "<class 'pandas.core.frame.DataFrame'>\n",
      "RangeIndex: 189766959 entries, 0 to 189766958\n",
      "Data columns (total 8 columns):\n",
      " #   Column    Dtype   \n",
      "---  ------    -----   \n",
      " 0   userId    category\n",
      " 1   itemId    category\n",
      " 2   showTime  int64   \n",
      " 3   network   category\n",
      " 4   refresh   category\n",
      " 5   showPos   category\n",
      " 6   click     category\n",
      " 7   duration  category\n",
      "dtypes: category(7), int64(1)\n",
      "memory usage: 4.3 GB\n",
      "None\n"
     ]
    }
   ],
   "source": [
    "# 各列字段为：用户id、文章id、展现时间、网路环境、刷新次数、展现位置、是否点击、消费时长（秒）；\n",
    "# 从train_data.txt读入\n",
    "ui_path = '~/data/train_data.txt'\n",
    "st = time()\n",
    "ui_df = pd.read_csv(str(ui_path), header=None, sep='\\t',\n",
    "                    names=['userId', 'itemId', 'showTime', 'network', 'refresh', 'showPos', 'click', 'duration'],\n",
    "                    dtype={'userId': 'category', 'itemId': 'category', 'showTime': 'int64','network': 'category',\n",
    "                           'refresh': 'category', 'showPos': 'category', 'click': 'category', 'duration': 'category'})\n",
    "ed = time()\n",
    "print(f'read csv: {ed - st: .2f}s')\n",
    "print(ui_df.info())\n",
    "print(ui_df.isnull().sum())"
   ]
  },
  {
   "cell_type": "code",
   "execution_count": 18,
   "metadata": {
    "pycharm": {
     "name": "#%%\n"
    }
   },
   "outputs": [
    {
     "name": "stdout",
     "output_type": "stream",
     "text": [
      "total 189766959 records.\n",
      "\n",
      "       userId     itemId       showTime network refresh showPos click duration\n",
      "0  1000014754  463510256  1624843756147       5       0      16     0        0\n",
      "1  1000014754  463852707  1624843756147       5       0      13     1       80\n",
      "2  1000014754  464757134  1625052999841       5       0      13     1     1050\n",
      "3  1000014754  464617167  1625052999841       5       0      16     1      286\n",
      "4  1000014754  465426190  1625382421168       5       0       5     0        0\n",
      "\n",
      "null values:\n",
      "userId      0\n",
      "itemId      0\n",
      "showTime    0\n",
      "network     0\n",
      "refresh     0\n",
      "showPos     0\n",
      "click       0\n",
      "duration    0\n",
      "dtype: int64\n"
     ]
    }
   ],
   "source": [
    "print(f'total {ui_df.shape[0]} records.\\n')\n",
    "print(ui_df.head())\n",
    "print(f'\\nnull values:\\n{ui_df.isnull().sum()}')"
   ]
  },
  {
   "cell_type": "code",
   "execution_count": 19,
   "metadata": {
    "pycharm": {
     "name": "#%%\n"
    },
    "tags": []
   },
   "outputs": [
    {
     "name": "stdout",
     "output_type": "stream",
     "text": [
      "earliest time is 2021-06-24 14:56:53.949000\n",
      "latest time is 2021-07-06 15:59:59.972000.\n",
      "\n",
      "count                        189766959\n",
      "mean     2021-06-30 16:07:51.462944768\n",
      "min         2021-06-24 14:56:53.949000\n",
      "25%      2021-06-27 14:10:33.423000064\n",
      "50%         2021-06-30 13:17:46.568000\n",
      "75%      2021-07-03 15:31:24.436999936\n",
      "max         2021-07-06 15:59:59.972000\n",
      "Name: showTime, dtype: object\n",
      "\n",
      "the distribution of records is basically average in time.\n"
     ]
    }
   ],
   "source": [
    "# \"训练数据取自用户历史12天的行为日志，\"\n",
    "showTime = ui_df['showTime']\n",
    "showTime = pd.to_datetime(showTime, unit='ms')\n",
    "ui_df['showTime'] = showTime\n",
    "print(f'earliest time is {showTime.min()}\\nlatest time is {showTime.max()}.\\n')\n",
    "print(showTime.describe(datetime_is_numeric=True))\n",
    "print('\\nthe distribution of records is basically average in time.')"
   ]
  },
  {
   "cell_type": "code",
   "execution_count": 20,
   "metadata": {
    "pycharm": {
     "name": "#%%\n"
    }
   },
   "outputs": [
    {
     "name": "stdout",
     "output_type": "stream",
     "text": [
      "total 1478694 users.\n",
      "max Id is 2447273874, min Id is 17340.\n",
      "\n",
      "the number of records of each user:\n",
      "1170017440    27202\n",
      "2445143950    20515\n",
      "1159427472    18189\n",
      "1767331530    15355\n",
      "2445841240    14015\n",
      "              ...  \n",
      "1715540286        1\n",
      "1715351880        1\n",
      "1715303324        1\n",
      "1715182266        1\n",
      "1430069648        1\n",
      "Name: userId, Length: 1478694, dtype: int64\n",
      "\n",
      "and distribution:\n",
      "count   1478694.00\n",
      "mean        128.33\n",
      "std         335.12\n",
      "min           1.00\n",
      "25%           2.00\n",
      "50%          13.00\n",
      "75%          86.00\n",
      "max       27202.00\n",
      "Name: userId, dtype: float64\n",
      "users with few records account for not little ratio.\n"
     ]
    }
   ],
   "source": [
    "userId = ui_df['userId'].astype('int64')\n",
    "print(f'total {userId.unique().size} users.')\n",
    "print(f'max Id is {userId.max()}, min Id is {userId.min()}.')\n",
    "\n",
    "print(f'\\nthe number of records of each user:')\n",
    "counts = userId.value_counts()\n",
    "print(counts)\n",
    "\n",
    "print(f'\\nand distribution:')\n",
    "print(counts.describe())\n",
    "\n",
    "print(f'users with few records account for not little ratio.')"
   ]
  },
  {
   "cell_type": "code",
   "execution_count": 21,
   "metadata": {
    "pycharm": {
     "name": "#%%\n"
    }
   },
   "outputs": [
    {
     "name": "stdout",
     "output_type": "stream",
     "text": [
      "total 590949 items.\n",
      "max Id is 466910675, min Id is 325279629.\n",
      "\n",
      "clicks counts for each item:\n",
      "465497699    204351\n",
      "463963285    197206\n",
      "463154982    188750\n",
      "465266173    158444\n",
      "465797210    156024\n",
      "              ...  \n",
      "465270165         1\n",
      "463560625         1\n",
      "462177360         1\n",
      "464531418         1\n",
      "464700121         1\n",
      "Name: itemId, Length: 590949, dtype: int64\n",
      "\n",
      "counts distribution:\n",
      "count   590949.00\n",
      "mean       321.12\n",
      "std       2713.34\n",
      "min          1.00\n",
      "25%          2.00\n",
      "50%          9.00\n",
      "75%         52.00\n",
      "max     204351.00\n",
      "Name: itemId, dtype: float64\n",
      "\n",
      " similarly with users records, items with few clicks account for not little ratio.\n",
      "even more concentrated than users records.\n"
     ]
    }
   ],
   "source": [
    "itemId = ui_df['itemId'].astype('int64')\n",
    "print(f'total {itemId.unique().size} items.')\n",
    "print(f'max Id is {itemId.max()}, min Id is {itemId.min()}.')\n",
    "\n",
    "print(f'\\nclicks counts for each item:')\n",
    "print(itemId.value_counts())\n",
    "\n",
    "clicks = itemId.value_counts()\n",
    "print(f'\\ncounts distribution:')\n",
    "print(clicks.describe())\n",
    "\n",
    "print(f'\\nsimilarly with users records, items with few clicks also account for not little ratio.')\n",
    "print(f'even more concentrated than users records.')"
   ]
  },
  {
   "cell_type": "code",
   "execution_count": 22,
   "metadata": {
    "pycharm": {
     "name": "#%%\n"
    }
   },
   "outputs": [
    {
     "name": "stdout",
     "output_type": "stream",
     "text": [
      "network status distribution:\n",
      "2    121109653\n",
      "5     67834372\n",
      "4       636315\n",
      "3       186619\n",
      "Name: network, dtype: int64\n",
      "\n",
      "most users are \"wifi-2\", then \"4g-5\", no 0 or 1\n"
     ]
    }
   ],
   "source": [
    "# 网络环境：0：未知；1：离线；2：WiFi；3：2g；4：3g；5：4g；\n",
    "network = ui_df['network']\n",
    "print('network status distribution:')\n",
    "print(network.value_counts())\n",
    "\n",
    "print(f'\\nmost users are \"wifi-2\", then \"4g-5\", no 0 or 1')"
   ]
  },
  {
   "cell_type": "code",
   "execution_count": 24,
   "metadata": {
    "pycharm": {
     "name": "#%%\n"
    }
   },
   "outputs": [
    {
     "name": "stdout",
     "output_type": "stream",
     "text": [
      "refresh distribution:\n",
      "1      25081571\n",
      "2      21967996\n",
      "0      18751054\n",
      "3      16297941\n",
      "4      13208328\n",
      "         ...   \n",
      "647           3\n",
      "650           3\n",
      "645           3\n",
      "646           3\n",
      "649           3\n",
      "Name: refresh, Length: 651, dtype: int64\n",
      "\n",
      "and refresh counts distribution:\n",
      "count   189766959.00\n",
      "mean            8.92\n",
      "std            15.02\n",
      "min             0.00\n",
      "25%             2.00\n",
      "50%             4.00\n",
      "75%            10.00\n",
      "max           650.00\n",
      "Name: refresh, dtype: float64\n"
     ]
    }
   ],
   "source": [
    "# 刷新次数：用户打开APP后推荐页的刷新次数，直到退出APP则清零；\n",
    "print('refresh distribution:')\n",
    "refresh = ui_df['refresh'].astype('int64')\n",
    "counts = refresh.value_counts()\n",
    "print(counts)\n",
    "print('\\nand refresh counts distribution:')\n",
    "print(refresh.describe())"
   ]
  },
  {
   "cell_type": "code",
   "execution_count": 25,
   "metadata": {
    "pycharm": {
     "name": "#%%\n"
    }
   },
   "outputs": [
    {
     "name": "stdout",
     "output_type": "stream",
     "text": [
      "total 2634 unique values.\n",
      "min position is 0, max position is 2698.\n",
      "show position distribution:\n",
      "15      6941048\n",
      "12      6208301\n",
      "17      5977890\n",
      "14      5769413\n",
      "16      5742256\n",
      "         ...   \n",
      "2697          1\n",
      "2386          1\n",
      "2269          1\n",
      "2266          1\n",
      "2151          1\n",
      "Name: showPos, Length: 2634, dtype: int64\n",
      "\n",
      "position counts distribution:\n",
      "count   189766959.00\n",
      "mean           52.76\n",
      "std            63.84\n",
      "min             0.00\n",
      "25%            17.00\n",
      "50%            32.00\n",
      "75%            64.00\n",
      "max          2698.00\n",
      "Name: showPos, dtype: float64\n"
     ]
    }
   ],
   "source": [
    "showPos = ui_df['showPos'].astype('int64')\n",
    "print(f'total {showPos.unique().size} unique values.')\n",
    "print(f'min position is {showPos.min()}, max position is {showPos.max()}.')\n",
    "\n",
    "print(f'show position distribution:')\n",
    "counts = showPos.value_counts()\n",
    "print(counts)\n",
    "\n",
    "print(f'\\nposition counts distribution:')\n",
    "print(showPos.describe())"
   ]
  },
  {
   "cell_type": "code",
   "execution_count": 26,
   "metadata": {},
   "outputs": [
    {
     "name": "stdout",
     "output_type": "stream",
     "text": [
      "0    162674966\n",
      "1     27091993\n",
      "Name: click, dtype: int64\n"
     ]
    }
   ],
   "source": [
    "click = ui_df['click']\n",
    "print(click.value_counts())\n"
   ]
  },
  {
   "cell_type": "code",
   "execution_count": 31,
   "metadata": {},
   "outputs": [
    {
     "name": "stdout",
     "output_type": "stream",
     "text": [
      "count   189766959.00\n",
      "mean           24.59\n",
      "std         44957.50\n",
      "min            -1.00\n",
      "25%             0.00\n",
      "50%             0.00\n",
      "75%             0.00\n",
      "max     619315213.00\n",
      "Name: duration, dtype: float64\n",
      "0       162663361\n",
      "2          250474\n",
      "1          237243\n",
      "3          226274\n",
      "4          220248\n",
      "          ...    \n",
      "3228            1\n",
      "3350            1\n",
      "3547            1\n",
      "2949            1\n",
      "3065            1\n",
      "Name: duration, Length: 3256, dtype: int64\n"
     ]
    }
   ],
   "source": [
    "# duration存在-1的值，比赛官网没有说明-1指的是啥？ 这里先不做处理，之后的训练也不用到duration\n",
    "duration = ui_df['duration'].astype('int64')\n",
    "print(duration.describe())\n",
    "print(duration.value_counts(dropna=False))\n"
   ]
  },
  {
   "cell_type": "code",
   "execution_count": 34,
   "metadata": {},
   "outputs": [
    {
     "data": {
      "text/plain": [
       "1    92496\n",
       "0    11605\n",
       "Name: click, dtype: int64"
      ]
     },
     "execution_count": 34,
     "metadata": {},
     "output_type": "execute_result"
    }
   ],
   "source": [
    "ui_df[duration == -1].click.value_counts()"
   ]
  },
  {
   "cell_type": "code",
   "execution_count": 37,
   "metadata": {},
   "outputs": [
    {
     "data": {
      "text/html": [
       "<div>\n",
       "<style scoped>\n",
       "    .dataframe tbody tr th:only-of-type {\n",
       "        vertical-align: middle;\n",
       "    }\n",
       "\n",
       "    .dataframe tbody tr th {\n",
       "        vertical-align: top;\n",
       "    }\n",
       "\n",
       "    .dataframe thead th {\n",
       "        text-align: right;\n",
       "    }\n",
       "</style>\n",
       "<table border=\"1\" class=\"dataframe\">\n",
       "  <thead>\n",
       "    <tr style=\"text-align: right;\">\n",
       "      <th></th>\n",
       "      <th>userId</th>\n",
       "      <th>itemId</th>\n",
       "      <th>showTime</th>\n",
       "      <th>network</th>\n",
       "      <th>refresh</th>\n",
       "      <th>showPos</th>\n",
       "      <th>click</th>\n",
       "      <th>duration</th>\n",
       "    </tr>\n",
       "  </thead>\n",
       "  <tbody>\n",
       "    <tr>\n",
       "      <th>0</th>\n",
       "      <td>1000014754</td>\n",
       "      <td>463510256</td>\n",
       "      <td>2021-06-28 01:29:16.147</td>\n",
       "      <td>5</td>\n",
       "      <td>0</td>\n",
       "      <td>16</td>\n",
       "      <td>0</td>\n",
       "      <td>0</td>\n",
       "    </tr>\n",
       "    <tr>\n",
       "      <th>1</th>\n",
       "      <td>1000014754</td>\n",
       "      <td>463852707</td>\n",
       "      <td>2021-06-28 01:29:16.147</td>\n",
       "      <td>5</td>\n",
       "      <td>0</td>\n",
       "      <td>13</td>\n",
       "      <td>1</td>\n",
       "      <td>80</td>\n",
       "    </tr>\n",
       "    <tr>\n",
       "      <th>2</th>\n",
       "      <td>1000014754</td>\n",
       "      <td>464757134</td>\n",
       "      <td>2021-06-30 11:36:39.841</td>\n",
       "      <td>5</td>\n",
       "      <td>0</td>\n",
       "      <td>13</td>\n",
       "      <td>1</td>\n",
       "      <td>1050</td>\n",
       "    </tr>\n",
       "    <tr>\n",
       "      <th>3</th>\n",
       "      <td>1000014754</td>\n",
       "      <td>464617167</td>\n",
       "      <td>2021-06-30 11:36:39.841</td>\n",
       "      <td>5</td>\n",
       "      <td>0</td>\n",
       "      <td>16</td>\n",
       "      <td>1</td>\n",
       "      <td>286</td>\n",
       "    </tr>\n",
       "    <tr>\n",
       "      <th>4</th>\n",
       "      <td>1000014754</td>\n",
       "      <td>465426190</td>\n",
       "      <td>2021-07-04 07:07:01.168</td>\n",
       "      <td>5</td>\n",
       "      <td>0</td>\n",
       "      <td>5</td>\n",
       "      <td>0</td>\n",
       "      <td>0</td>\n",
       "    </tr>\n",
       "  </tbody>\n",
       "</table>\n",
       "</div>"
      ],
      "text/plain": [
       "       userId     itemId                showTime network refresh showPos click duration\n",
       "0  1000014754  463510256 2021-06-28 01:29:16.147       5       0      16     0        0\n",
       "1  1000014754  463852707 2021-06-28 01:29:16.147       5       0      13     1       80\n",
       "2  1000014754  464757134 2021-06-30 11:36:39.841       5       0      13     1     1050\n",
       "3  1000014754  464617167 2021-06-30 11:36:39.841       5       0      16     1      286\n",
       "4  1000014754  465426190 2021-07-04 07:07:01.168       5       0       5     0        0"
      ]
     },
     "execution_count": 37,
     "metadata": {},
     "output_type": "execute_result"
    }
   ],
   "source": [
    "ui_df.head()"
   ]
  },
  {
   "cell_type": "code",
   "execution_count": 36,
   "metadata": {},
   "outputs": [],
   "source": [
    "ui_df.to_pickle('~/data/user_item.pkl')"
   ]
  }
 ],
 "metadata": {
  "kernelspec": {
   "display_name": "Python 3 (ipykernel)",
   "language": "python",
   "name": "python3"
  },
  "language_info": {
   "codemirror_mode": {
    "name": "ipython",
    "version": 3
   },
   "file_extension": ".py",
   "mimetype": "text/x-python",
   "name": "python",
   "nbconvert_exporter": "python",
   "pygments_lexer": "ipython3",
   "version": "3.7.10"
  }
 },
 "nbformat": 4,
 "nbformat_minor": 4
}
